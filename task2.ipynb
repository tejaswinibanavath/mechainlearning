{
  "nbformat": 4,
  "nbformat_minor": 0,
  "metadata": {
    "colab": {
      "provenance": [],
      "authorship_tag": "ABX9TyPfP+nBGI2oSKQ5xhf0i6q2",
      "include_colab_link": true
    },
    "kernelspec": {
      "name": "python3",
      "display_name": "Python 3"
    },
    "language_info": {
      "name": "python"
    }
  },
  "cells": [
    {
      "cell_type": "markdown",
      "metadata": {
        "id": "view-in-github",
        "colab_type": "text"
      },
      "source": [
        "<a href=\"https://colab.research.google.com/github/tejaswinibanavath/mechainlearning/blob/main/task2.ipynb\" target=\"_parent\"><img src=\"https://colab.research.google.com/assets/colab-badge.svg\" alt=\"Open In Colab\"/></a>"
      ]
    },
    {
      "cell_type": "code",
      "execution_count": 1,
      "metadata": {
        "colab": {
          "base_uri": "https://localhost:8080/"
        },
        "id": "w_OQTWx2oXqm",
        "outputId": "c416281a-8c64-4a98-8638-d371b840c2e4"
      },
      "outputs": [
        {
          "output_type": "stream",
          "name": "stdout",
          "text": [
            "Dataset Information:\n",
            "<class 'pandas.core.frame.DataFrame'>\n",
            "RangeIndex: 10000 entries, 0 to 9999\n",
            "Data columns (total 12 columns):\n",
            " #   Column            Non-Null Count  Dtype  \n",
            "---  ------            --------------  -----  \n",
            " 0   customer_id       10000 non-null  int64  \n",
            " 1   credit_score      10000 non-null  int64  \n",
            " 2   country           10000 non-null  object \n",
            " 3   gender            10000 non-null  object \n",
            " 4   age               10000 non-null  int64  \n",
            " 5   tenure            10000 non-null  int64  \n",
            " 6   balance           10000 non-null  float64\n",
            " 7   products_number   10000 non-null  int64  \n",
            " 8   credit_card       10000 non-null  int64  \n",
            " 9   active_member     10000 non-null  int64  \n",
            " 10  estimated_salary  10000 non-null  float64\n",
            " 11  churn             10000 non-null  int64  \n",
            "dtypes: float64(2), int64(8), object(2)\n",
            "memory usage: 937.6+ KB\n",
            "None\n",
            "\n",
            "Missing values before imputation:\n",
            "customer_id         0\n",
            "credit_score        0\n",
            "country             0\n",
            "gender              0\n",
            "age                 0\n",
            "tenure              0\n",
            "balance             0\n",
            "products_number     0\n",
            "credit_card         0\n",
            "active_member       0\n",
            "estimated_salary    0\n",
            "churn               0\n",
            "dtype: int64\n",
            "\n",
            "Missing values after imputation:\n",
            "customer_id         0\n",
            "credit_score        0\n",
            "country             0\n",
            "gender              0\n",
            "age                 0\n",
            "tenure              0\n",
            "balance             0\n",
            "products_number     0\n",
            "credit_card         0\n",
            "active_member       0\n",
            "estimated_salary    0\n",
            "churn               0\n",
            "dtype: int64\n"
          ]
        }
      ],
      "source": [
        "import pandas as pd\n",
        "from sklearn.impute import SimpleImputer\n",
        "\n",
        "# Load the Bank Customer Churn dataset\n",
        "df = pd.read_csv('/content/Bank Customer Churn Prediction.csv')\n",
        "\n",
        "# Display basic information about the dataset\n",
        "print(\"Dataset Information:\")\n",
        "print(df.info())\n",
        "\n",
        "# Check for missing values before imputation\n",
        "print(\"\\nMissing values before imputation:\")\n",
        "print(df.isnull().sum())\n",
        "\n",
        "# Creating a SimpleImputer instance with 'most_frequent'\n",
        "imputer = SimpleImputer(strategy='most_frequent')\n",
        "\n",
        "# Fit and transform the data\n",
        "df_imputed = pd.DataFrame(imputer.fit_transform(df), columns=df.columns)\n",
        "\n",
        "# Checking for missing values after imputation\n",
        "print(\"\\nMissing values after imputation:\")\n",
        "print(df_imputed.isnull().sum())"
      ]
    },
    {
      "cell_type": "code",
      "source": [],
      "metadata": {
        "id": "ARx06vLjpSzY"
      },
      "execution_count": null,
      "outputs": []
    }
  ]
}